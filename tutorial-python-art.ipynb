{
  "metadata": {
    "kernelspec": {
      "language": "python",
      "display_name": "Python 3",
      "name": "python3"
    },
    "language_info": {
      "name": "python",
      "version": "3.6.6",
      "mimetype": "text/x-python",
      "codemirror_mode": {
        "name": "ipython",
        "version": 3
      },
      "pygments_lexer": "ipython3",
      "nbconvert_exporter": "python",
      "file_extension": ".py"
    },
    "colab": {
      "name": "tutorial-python.ipynb",
      "provenance": []
    }
  },
  "nbformat_minor": 0,
  "nbformat": 4,
  "cells": [
    {
      "cell_type": "markdown",
      "source": [
        "#1. O que é Python?\n",
        "\n",
        "####Python é uma linguagem de programação popular. Foi criada por Guido van Rossum, e lançada em 1991. It is used for: web development (server-side), software development, mathematics, system scripting.\n",
        "\n",
        "#2. O que é posível fazer com Python?\n",
        "#### - Aplicativos web (back-end)\n",
        "#### - Matemática complexa (incluindo Machine Learning)\n",
        "#### - Prototipagem rápida (scripts)\n",
        "\n",
        "#3. Porque usar Python?\n",
        "####Funciona em diferentes plataformas (Windows, Mac, Linux, Raspberry Pi, etc). Possui uma sintaxe simples semelhante ao idioma inglês. Possui uma sintaxe que permite aos desenvolvedores escrever programas com menos linhas do que algumas outras linguagens de programação. É executado em um interpretador, o que significa que o código pode ser executado assim que for gravado. Isso significa que a prototipagem pode ser muito rápida. Pode ser tratado de maneira procedural, orientada a objetos ou funcional. (Multi-paradigma)\n",
        "\n",
        "#4. Python x outras Linguagens\n",
        "####O Python foi projetado para facilitar a leitura e possui algumas semelhanças com o idioma inglês, com influência da matemática. O Python usa quebra de linha para concluir um comando, em oposição a outras linguagens de programação que geralmente usam ponto-e-vírgula ou parênteses. O Python conta com recuo (tab), usando espaço em branco, para definir o escopo; como o escopo de loops, funções e classes. Outras linguagens de programação costumam usar colchetes para esse fim."
      ],
      "metadata": {
        "id": "slRX1hdgGO3V"
      }
    },
    {
      "cell_type": "markdown",
      "source": [
        "# Cometários | Hello World! | Identação"
      ],
      "metadata": {
        "id": "n3LQBR9AGHZJ"
      }
    },
    {
      "cell_type": "code",
      "source": [
        "print(\"Hello world!\")  # impressão de dados na tela   "
      ],
      "metadata": {
        "_uuid": "d629ff2d2480ee46fbb7e2d37f6b5fab8052498a",
        "_cell_guid": "79c7e3d0-c299-4dcb-8224-4455121ee9b0",
        "trusted": true,
        "id": "OSLHZCIeGHZP"
      },
      "execution_count": null,
      "outputs": []
    },
    {
      "cell_type": "code",
      "source": [
        "if 5>4 :                                         # importância da identação no Python, ela faz o papel das chaves em outras linguagens\n",
        "    print(\"5 é maior que 4\")\n",
        "    if 4<5 :\n",
        "            print(\"5 nao é menor que 4\")"
      ],
      "metadata": {
        "trusted": true,
        "id": "-NJEV79GGHZS"
      },
      "execution_count": null,
      "outputs": []
    },
    {
      "cell_type": "code",
      "source": [
        "if 5>4 :                                         # importância da identação no Python, ela faz o papel das chaves em outras linguagens\n",
        "    print(\"5 é maior que 4\")\n",
        "    if 4<5 :\n",
        "    print(\"5 nao é menor que 4\")                 # execute e observe o erro devido a falta de identação"
      ],
      "metadata": {
        "trusted": true,
        "id": "7OuYbRPUGHZT"
      },
      "execution_count": null,
      "outputs": []
    },
    {
      "cell_type": "markdown",
      "source": [
        "# Variáveis - Atribuição e tipos"
      ],
      "metadata": {
        "id": "jb9foGTSGHZU"
      }
    },
    {
      "cell_type": "code",
      "source": [
        "nome = \"John\" #variável tipo string\n",
        "Idade = 43    #variável tipo inteiro\n",
        "idade = 42    #variável tipo inteira\n",
        "preco = 43.8  #variável tipo float (real)\n",
        "\n",
        "print(nome,Idade,idade,preco)\n"
      ],
      "metadata": {
        "trusted": true,
        "id": "VORkGCSaGHZV"
      },
      "execution_count": null,
      "outputs": []
    },
    {
      "cell_type": "code",
      "source": [
        "x=y=z =10          # atribuindo o valor 10 a várias variáveis simultaneamente\n",
        "\n",
        "print(x,y,z)"
      ],
      "metadata": {
        "trusted": true,
        "id": "pc0XTZY6GHZX"
      },
      "execution_count": null,
      "outputs": []
    },
    {
      "cell_type": "code",
      "source": [
        "x,y,z=10,5,20     # fazendo 3 atribuições simultâneamente               \n",
        "print(x,y,z)"
      ],
      "metadata": {
        "trusted": true,
        "id": "dcOXiSMtGHZZ"
      },
      "execution_count": null,
      "outputs": []
    },
    {
      "cell_type": "markdown",
      "source": [
        "# Imprimindo variáveis"
      ],
      "metadata": {
        "id": "10OqwfRQGHZa"
      }
    },
    {
      "cell_type": "code",
      "source": [
        "nome = \"Arthur\"\n",
        "sobrenome = \"Rocha\" \n",
        "\n",
        "print(nome + sobrenome)                 # Concatenando 2 variáveis"
      ],
      "metadata": {
        "trusted": true,
        "id": "WXnqR0-8GHZe"
      },
      "execution_count": null,
      "outputs": []
    },
    {
      "cell_type": "code",
      "source": [
        "endereco = \"R. Casa do Ator, 275 - Vila Olímpia, São Paulo - SP, 04546-001\"   \n",
        "print(\"Seu endereço é: \" + endereco)           # Concatenando texto e variável         "
      ],
      "metadata": {
        "trusted": true,
        "id": "Tdx7OG3pGHZc"
      },
      "execution_count": null,
      "outputs": []
    },
    {
      "cell_type": "markdown",
      "source": [
        "# Escopo de Variáveis "
      ],
      "metadata": {
        "id": "WhPbIvRmGHZg"
      }
    },
    {
      "cell_type": "code",
      "source": [
        "x = \"global\"                                   # variável global, pode ser utiliza em qualquer ponto do seu código\n",
        "\n",
        "def myfunc():\n",
        "  m = \"local\"                                  # variável local não pode ser acessada fora da função\n",
        "  print(\"dentro da função a variável é \" + m)\n",
        "\n",
        "myfunc()                                       # aqui estou chamando a função myfunc()\n",
        "\n",
        "print(\"fora da função a variável é \" + x)      # a variável x é global, pode ser utilizada e impressa em qualquer ponto do seu código\n",
        "\n",
        "print(\"A variável m é \" + m)                   # observe que irá dar um erro e dirá que a váriável não foi definida, pois ela só existe no escopo da função"
      ],
      "metadata": {
        "trusted": true,
        "id": "bEZmB07-GHZi"
      },
      "execution_count": null,
      "outputs": []
    },
    {
      "cell_type": "markdown",
      "source": [
        "# tipos de variáveis em python"
      ],
      "metadata": {
        "id": "iFVmAmUqGHZj"
      }
    },
    {
      "cell_type": "code",
      "source": [
        "# variáveis numéricas  int flot complex\n",
        "# variáveis texto      string\n",
        "# variáveis sequências list, range, tuple, set\n",
        "# arrays associativos  dictionaries (itens formados por um par chave=>valor)"
      ],
      "metadata": {
        "trusted": true,
        "id": "WBRDopjHGHZj"
      },
      "execution_count": null,
      "outputs": []
    },
    {
      "cell_type": "code",
      "source": [
        "x = 5              # variável do tipo inteira\n",
        "a = 1.6            # variável do tipo float\n",
        "b = 2 + 3j         # variável do tipo complex\n",
        "print(type(x))     # imprime o tipo de variável\n",
        "print(type(b))\n",
        "print(b)"
      ],
      "metadata": {
        "execution": {
          "iopub.status.busy": "2022-08-11T22:15:54.522419Z",
          "iopub.execute_input": "2022-08-11T22:15:54.522772Z",
          "iopub.status.idle": "2022-08-11T22:15:54.532316Z",
          "shell.execute_reply.started": "2022-08-11T22:15:54.522736Z",
          "shell.execute_reply": "2022-08-11T22:15:54.530910Z"
        },
        "trusted": true,
        "id": "OxIcl9YRGHZk"
      },
      "execution_count": null,
      "outputs": []
    },
    {
      "cell_type": "code",
      "source": [
        "x = \"O papa é pop!\" # variável do tipo string\n",
        "print(type(x))      # imprime o tipo de variável"
      ],
      "metadata": {
        "trusted": true,
        "id": "IJ2tM1gEGHZl"
      },
      "execution_count": null,
      "outputs": []
    },
    {
      "cell_type": "code",
      "source": [
        "x= 34.890          # variável do tipo float\n",
        "print(type(x))     # imprime o tipo de variável"
      ],
      "metadata": {
        "trusted": true,
        "id": "or_sJFYYGHZl"
      },
      "execution_count": null,
      "outputs": []
    },
    {
      "cell_type": "code",
      "source": [
        "x = [1,4,5,7,8]    # variável do tipo list\n",
        "print(type(x))     # imprime o tipo de variável"
      ],
      "metadata": {
        "trusted": true,
        "id": "u1EZZ-vJGHZm"
      },
      "execution_count": null,
      "outputs": []
    },
    {
      "cell_type": "code",
      "source": [
        "x = range(4,10)   # variável do tipo range, aqui estou passando dois parâmetros start=4 e end = 10, observe a saída\n",
        "print(type(x))    # imprime o tipo de variável\n",
        "\n",
        "for i in x:\n",
        "    print(i)      # imprime os itens do range"
      ],
      "metadata": {
        "trusted": true,
        "id": "FnuhMDhGGHZm"
      },
      "execution_count": null,
      "outputs": []
    },
    {
      "cell_type": "code",
      "source": [
        "x = (1,4,5,7,8)  # variável do tipo tuple depois de criada não é possível adicionar ou remover itens\n",
        "print(type(x))   # imprime o tipo de variável"
      ],
      "metadata": {
        "trusted": true,
        "id": "rSV-FKnAGHZn"
      },
      "execution_count": null,
      "outputs": []
    },
    {
      "cell_type": "code",
      "source": [
        "x = {3, 4, 2, 1}  # variável do tipo set, depois de criada vc não pode alterar um item, mas pode adicionar itens novos, vc também não pode acessar o item pelo indice.\n",
        "print(type(x))    # imprime o tipo de variável"
      ],
      "metadata": {
        "trusted": true,
        "id": "Jxkj5rkuGHZn"
      },
      "execution_count": null,
      "outputs": []
    },
    {
      "cell_type": "code",
      "source": [
        "x = {\"Joao\" : \"5511-999999\", \"Pedro\" :'5511-88888'} # variável do tipo dictionary, é um tipo de array associativo com chave e valor\n",
        "print(type(x))     # imprime o tipo de variável"
      ],
      "metadata": {
        "trusted": true,
        "id": "JDRm1KCGGHZo"
      },
      "execution_count": null,
      "outputs": []
    },
    {
      "cell_type": "code",
      "source": [
        "x = range(8)     # variável do tipo range, aqui estou passando só o parâmetro end = 8, observe a saída\n",
        "print(type(x))   # imprime o tipo de variável\n",
        "\n",
        "for i in x:\n",
        "    print(i)      # imprime os itens do range"
      ],
      "metadata": {
        "trusted": true,
        "id": "4Y9BwI_qGHZo"
      },
      "execution_count": null,
      "outputs": []
    },
    {
      "cell_type": "code",
      "source": [
        "x = range(3,11,2)   # variável do tipo range, aqui estou passando três parâmetros start=3 e end = 10 e step = 2, observe a saída\n",
        "print(type(x))    # imprime o tipo de variável\n",
        "\n",
        "for i in x:\n",
        "    print(i)      # imprime os itens do range"
      ],
      "metadata": {
        "trusted": true,
        "id": "YZCGk-REGHZp"
      },
      "execution_count": null,
      "outputs": []
    },
    {
      "cell_type": "markdown",
      "source": [
        "# Utilizando construtores para definir variáveis"
      ],
      "metadata": {
        "id": "Dvy4NguIGHZp"
      }
    },
    {
      "cell_type": "code",
      "source": [
        "x = int(4)               # o mesmo que x = 4\n",
        "x = float(4)             # o mesmo que x = 4.0\n",
        "x = str(\"texto\")         # o mesmo que x = \"texto\"\n",
        "x = list((1,2,3,4))      # o mesmo que x = [6,7,3,4]\n",
        "x = tuple((1,2,3,4))     # o mesmo que x = (1,4,3,8)\n",
        "x = set((1,2,3,4))       # o mesmo que x = {1,2,3,4}\n",
        "x = dict(j=1,c=2,d=4)    # o mesmo que x = {'j':1, 'c':2, 'd':4}"
      ],
      "metadata": {
        "trusted": true,
        "id": "-hFe-u5eGHZp"
      },
      "execution_count": null,
      "outputs": []
    },
    {
      "cell_type": "markdown",
      "source": [
        "# Casting de Variáveis (convertendo tipos)"
      ],
      "metadata": {
        "id": "4VsbPjr7GHZq"
      }
    },
    {
      "cell_type": "code",
      "source": [
        "x = float(1)   # força a conversão de um número inteiro em float  a saída será  1.0\n",
        "print(x)"
      ],
      "metadata": {
        "trusted": true,
        "id": "qBQJgXX3GHZr"
      },
      "execution_count": null,
      "outputs": []
    },
    {
      "cell_type": "code",
      "source": [
        "x = float(\"1\")  # força a conversão de uma string em float\n",
        "print(x)"
      ],
      "metadata": {
        "execution": {
          "iopub.status.busy": "2022-08-11T22:16:48.687987Z",
          "iopub.execute_input": "2022-08-11T22:16:48.688763Z",
          "iopub.status.idle": "2022-08-11T22:16:48.696505Z",
          "shell.execute_reply.started": "2022-08-11T22:16:48.688705Z",
          "shell.execute_reply": "2022-08-11T22:16:48.695313Z"
        },
        "trusted": true,
        "id": "UaG8anxqGHZs"
      },
      "execution_count": null,
      "outputs": []
    },
    {
      "cell_type": "code",
      "source": [
        "x = int(2.55551)  # força a conversão de um float em int  a saída será 2\n",
        "print(x)"
      ],
      "metadata": {
        "trusted": true,
        "id": "b58-R9bcGHZt"
      },
      "execution_count": null,
      "outputs": []
    },
    {
      "cell_type": "code",
      "source": [
        "x = str(3.0)   # força a conversão de um float em string a saída será '3.0' entre aspas!\n",
        "print(x)"
      ],
      "metadata": {
        "trusted": true,
        "id": "Qn_551dNGHZu"
      },
      "execution_count": null,
      "outputs": []
    },
    {
      "cell_type": "markdown",
      "source": [
        "# OPERADORES PYTHON\n",
        "* ARITMÉTICOS \n",
        "* ATRIBUIÇÃO\n",
        "* COMPARAÇÃO\n",
        "* LÓGICOS"
      ],
      "metadata": {
        "id": "NQ02ew-5GHZv"
      }
    },
    {
      "cell_type": "markdown",
      "source": [
        "## ARITMÉTICOS   +  -  * / ** % //**"
      ],
      "metadata": {
        "id": "DZG7E7RmGHZw"
      }
    },
    {
      "cell_type": "code",
      "source": [
        "x=5\n",
        "y=10\n",
        "\n",
        "print(x+y)\n",
        "print(y-x)\n",
        "print(x*y)\n",
        "print(y/x)\n",
        "print(x**2) # exponenciação\n",
        "print(x%3)  # resto da divisao \n",
        "print(x//3) # parte inteira da divisão\n"
      ],
      "metadata": {
        "execution": {
          "iopub.status.busy": "2022-08-11T22:17:05.701010Z",
          "iopub.execute_input": "2022-08-11T22:17:05.701845Z",
          "iopub.status.idle": "2022-08-11T22:17:05.712943Z",
          "shell.execute_reply.started": "2022-08-11T22:17:05.701799Z",
          "shell.execute_reply": "2022-08-11T22:17:05.711353Z"
        },
        "trusted": true,
        "id": "84AUcHjQGHZx"
      },
      "execution_count": null,
      "outputs": []
    },
    {
      "cell_type": "markdown",
      "source": [
        "## operadores de atribuição  = += -= *= /= **= %= //= ++ --"
      ],
      "metadata": {
        "id": "3JQinbH5GHZy"
      }
    },
    {
      "cell_type": "code",
      "source": [
        "x=5\n",
        "y=10\n",
        "print(x)\n",
        "print(y)\n",
        "\n",
        "x+=1          # o mesmo que fazer x = x + 1 \n",
        "print(x)\n",
        "x-=2          # o mesmo que fazer x = x - 2\n",
        "print(x)\n",
        "x*=3          # o mesmo que fazer x = x * 3\n",
        "print(x)\n",
        "x/=4          # o mesmo que fazer x = x / 4\n",
        "print(x)\n",
        "x//=2         # o mesmo que fazer x = x // 2\n",
        "print(x)\n",
        "x%=2          # o mesmo que fazer x = x % 2\n",
        "print(x)\n",
        "\n",
        "# em python não temos os operadores incremento e decremento ++ e --"
      ],
      "metadata": {
        "trusted": true,
        "id": "dC-kx2LyGHZy"
      },
      "execution_count": null,
      "outputs": []
    },
    {
      "cell_type": "markdown",
      "source": [
        "## OPERADORES DE COMPARAÇÃO  == != > < >= <= "
      ],
      "metadata": {
        "id": "WjmEYRRdGHZz"
      }
    },
    {
      "cell_type": "code",
      "source": [
        "x=10\n",
        "y=2\n",
        "z=10\n",
        "\n",
        "print(x==y)   # aqui comparamos a igualdade entre x e y, no exemplo retorna false pois x é dirente de y\n",
        "print(x<y)    # verificamos se x é menor que y, no exemplo retorna falso pois x é maior que y\n",
        "print(x>y)    # verificamos se x é maior que y, no exemplo retorna true pois x é maior que y\n",
        "print(x>=z)   # verificamos se x é maior ou igual a z\n",
        "print(x<=z)   # verificamos se x é menor ou igual a z"
      ],
      "metadata": {
        "trusted": true,
        "id": "K4CvnvkfGHZ0"
      },
      "execution_count": null,
      "outputs": []
    },
    {
      "cell_type": "markdown",
      "source": [
        "# OPERADORES LÓGICOS  AND  OR  NOT"
      ],
      "metadata": {
        "id": "Hr0J1fAvGHZ0"
      }
    },
    {
      "cell_type": "code",
      "source": [
        "x=7\n",
        "y=5\n",
        "z=10\n",
        "\n",
        "print(x>5 and y>5)  #operador AND também chamado de conjunção só retorna true se as duas condições forem verdadeiras\n",
        "print(x>5 or y>=5)  #operador OR  também chamado de disjunção retorna true se pelo menos uma das condições for verdadeira\n",
        "print((x>5 and y>=5 and z==10)) #operador AND só retorna true se as 3 condições forem verdadeiras\n",
        "print(not(z==10)) # operador not invert o resultado se a comparação é true retorna false se é false retorna true. No exemplo, z=10 então deveria retornar true, o not invert o resultado\n",
        "print(x>5 ^ y< 3) # operador XOR ou OR EXCLUSIVE, retorna true se apenas uma das condições for verdadeira, se as duas forem verdadeiras retorna false."
      ],
      "metadata": {
        "trusted": true,
        "id": "xsBfP1EZGHZ1"
      },
      "execution_count": null,
      "outputs": []
    },
    {
      "cell_type": "markdown",
      "source": [
        "# Listas\n"
      ],
      "metadata": {
        "id": "hCC0Hi0-GHZ1"
      }
    },
    {
      "cell_type": "code",
      "source": [
        "frutas = ['banana','laranja','uva']   # declarando uma lista \n",
        "cores  = list(('branco','azul','preto')) # declarando uma lista usando o construtor list(), observe que tanto faz uma forma ou outra\n",
        "\n",
        "print(len(frutas))  # retorna o número de elementos da lista\n",
        "print(len(cores))   # retorna o número de elementos da lista\n",
        "\n",
        "print(frutas[0])    # retorna o item indice zero da lista (primeiro item)\n",
        "print(frutas[-1])   # retorna o último item da lista (o negativo serve para iniciar a contagem no final da lista)\n",
        "frutas[0]='cereja'  # substituindo o item indice 0 (banana) por cereja\n",
        "print(frutas[0])    # retorna o item zero alterado\n",
        "print(frutas)       # retorna a lista inteira\n"
      ],
      "metadata": {
        "trusted": true,
        "id": "ADqQJob6GHZ1"
      },
      "execution_count": null,
      "outputs": []
    },
    {
      "cell_type": "markdown",
      "source": [
        "# Métodos para trabalhar com listas"
      ],
      "metadata": {
        "id": "5e4trOvBGHZ2"
      }
    },
    {
      "cell_type": "code",
      "source": [
        "\n",
        "### append()  # Adds an element at the end of the list\n",
        "### copy()    # Returns a copy of the list\n",
        "### clear()   # Removes all the elements from the list\n",
        "### count()   # Returns the number of elements with the specified value\n",
        "### extend()  # Add the elements of a list (or any iterable), to the end of the current list\n",
        "### index()   # Returns the index of the first element with the specified value\n",
        "### insert()  # Adds an element at the specified position\n",
        "### pop()     # Removes the element at the specified position\n",
        "### remove()  # Removes the item with the specified value\n",
        "### reverse() # Reverses the order of the list\n",
        "### sort()    # Sorts the list"
      ],
      "metadata": {
        "trusted": true,
        "id": "WJHnoeXjGHZ2"
      },
      "execution_count": null,
      "outputs": []
    },
    {
      "cell_type": "code",
      "source": [
        "frutas.append('abacate') # usa o método append para incluir um novo item no final da lista\n",
        "print(frutas)            # retorna a lista inteira"
      ],
      "metadata": {
        "trusted": true,
        "id": "ZYcBPH77GHZ2"
      },
      "execution_count": null,
      "outputs": []
    },
    {
      "cell_type": "code",
      "source": [
        "frutas2 = frutas.copy() # faz uma cópia da lista frutas para a variável frutas2\n",
        "print(frutas)            # retorna a lista inteira"
      ],
      "metadata": {
        "trusted": true,
        "id": "5akVMFLEGHZ3"
      },
      "execution_count": null,
      "outputs": []
    },
    {
      "cell_type": "code",
      "source": [
        "frutas2.clear()          # exclui todos os itens da lista frutas2\n",
        "print(frutas2)           # retorna a lista inteira"
      ],
      "metadata": {
        "trusted": true,
        "id": "8LW7HD_zGHZ4"
      },
      "execution_count": null,
      "outputs": []
    },
    {
      "cell_type": "code",
      "source": [
        "frutas.count('banana')  # conta quantos vezes o item banana aparece na lista frutas"
      ],
      "metadata": {
        "trusted": true,
        "id": "_pxixDj8GHZ5"
      },
      "execution_count": null,
      "outputs": []
    },
    {
      "cell_type": "code",
      "source": [
        "frutas.extend(cores)  # o método extend inclui os itens da lista cores no final da lista frutas\n",
        "print(len(frutas))    # retorna o novo número de itens da lista frutas\n",
        "print(frutas)         # retorna a lista frutas inteira, observe que agora possui também os itens da lista cores"
      ],
      "metadata": {
        "trusted": true,
        "id": "fTMoRZopGHZ5"
      },
      "execution_count": null,
      "outputs": []
    },
    {
      "cell_type": "code",
      "source": [
        "tudo = frutas + cores # cria uma nova variável juntando as duas listas\n",
        "print(tudo)           # retorna os itens da nova lista"
      ],
      "metadata": {
        "trusted": true,
        "id": "x56yliz9GHZ6"
      },
      "execution_count": null,
      "outputs": []
    },
    {
      "cell_type": "markdown",
      "source": [
        "# ARRAY"
      ],
      "metadata": {
        "id": "wPGeJbOvGHZ6"
      }
    },
    {
      "cell_type": "code",
      "source": [
        "x = np.array([3, 6, 9, 12])  # declaração de um array, diferente das listas você pode fazer operações aritméticas nos arrays\n",
        "x/3.0                        # dividindo cada elemento do array por 3\n",
        "print(x)                     # retorna os novos valores do array x"
      ],
      "metadata": {
        "trusted": true,
        "id": "xGrDRQZ8GHZ7"
      },
      "execution_count": null,
      "outputs": []
    },
    {
      "cell_type": "markdown",
      "source": [
        "# Condicional if - else if - else"
      ],
      "metadata": {
        "id": "VodbcCqEGHZ8"
      }
    },
    {
      "cell_type": "code",
      "source": [
        "lista = list(('a','b','c'))   # declarando uma lista com os itens a, b e c\n",
        "if  'a' in lista:             # verificando se 'a' existe na lista \n",
        "     print('achei')           # caso o item exista imprime achei, troque a por d e verifique que não será impresso nada.\n",
        "        \n",
        "x = 10\n",
        "y = 20\n",
        "z=0\n",
        "if y==4*x:                   # verificando se y é igual 4*x, se for, calcula z = x + y e imprime z, se não for, não faz nada\n",
        "    z=x+y\n",
        "    print(z)"
      ],
      "metadata": {
        "trusted": true,
        "id": "cgTV_FFVGHZ9"
      },
      "execution_count": null,
      "outputs": []
    },
    {
      "cell_type": "code",
      "source": [
        "#uso do if else\n",
        "\n",
        "salario = 5000\n",
        "\n",
        "if salario<=2000:\n",
        "    print(\"seu desconto será 10%\")\n",
        "else:\n",
        "     print(\"seu desconto será 20%\")"
      ],
      "metadata": {
        "trusted": true,
        "id": "8grx4N86GHZ-"
      },
      "execution_count": null,
      "outputs": []
    },
    {
      "cell_type": "code",
      "source": [
        "# uso do if - elif - else\n",
        "\n",
        "print('entre com seu salario:')    # solicitando ao usuário que entre com o salário\n",
        "\n",
        "salario=input()                    # lendo os dados do teclado e inserindo na variável salario\n",
        "salario = float(salario)           # convertendo o texto do teclado (string) para float\n",
        " \n",
        "if salario<=2000:\n",
        "    print(\"seu desconto será 10%\")\n",
        "elif salario<=5000:\n",
        "    print(\"seu desconto será 20%\")\n",
        "elif salario<=6000:\n",
        "    print(\"seu desconto será 25%\")\n",
        "elif salario<=7000:\n",
        "    print(\"seu desconto será 27%\")\n",
        "else:\n",
        "     print(\"seu desconto será 30%\")"
      ],
      "metadata": {
        "trusted": true,
        "id": "pmpUw7fSGHaA"
      },
      "execution_count": null,
      "outputs": []
    },
    {
      "cell_type": "markdown",
      "source": [
        "# For Loops\n",
        "\n",
        "Um loop for é usado para iterar sobre uma sequência (ou seja, uma lista, uma tupla, um dicionário, um conjunto ou uma string).\n",
        "\n",
        "Isso é menos parecido com a palavra-chave for em outras linguagens de programação e funciona mais como um método iterador, como encontrado em outras linguagens de programação orientadas a objetos.\n",
        "\n",
        "Com o loop for, podemos executar um conjunto de instruções, uma vez para cada item de uma lista, tupla, conjunto etc.\n"
      ],
      "metadata": {
        "id": "3DsTNC-rGHaC"
      }
    },
    {
      "cell_type": "code",
      "source": [
        "for x in range(0,10,2):  # loop iniciando em zero, até 9 em passos de 2 em 2\n",
        "    print(x)\n",
        "    print(\"-\")"
      ],
      "metadata": {
        "trusted": true,
        "id": "TF0sJCpDGHaD"
      },
      "execution_count": null,
      "outputs": []
    },
    {
      "cell_type": "code",
      "source": [
        "for x in frutas:    # iterando sobre a lista frutas, faz um loop sobre todos os itens da lista\n",
        "    print(x)"
      ],
      "metadata": {
        "trusted": true,
        "id": "hYBGUR9mGHaE"
      },
      "execution_count": null,
      "outputs": []
    },
    {
      "cell_type": "code",
      "source": [
        "for x in frutas:    # usando o else no for, observe a saída\n",
        "    print(x)\n",
        "else:\n",
        "    print(\"fim da lista de frutas\")"
      ],
      "metadata": {
        "trusted": true,
        "id": "tq0J58jdGHaF"
      },
      "execution_count": null,
      "outputs": []
    },
    {
      "cell_type": "markdown",
      "source": [
        "# While Loops\n",
        "Executa um conjunto de instruções enquanto a condição avaliada for True"
      ],
      "metadata": {
        "id": "k9CYN7u3GHaF"
      }
    },
    {
      "cell_type": "code",
      "source": [
        "i=0                  # inicializando o contador de controle do loop\n",
        "\n",
        "while i<10:          # Enquanto i<10 executa:\n",
        "    i+=1             # incrementa i\n",
        "    print(i)         # imprimi i\n",
        "else:\n",
        "    print(\"fim do loop\") # ao terminar o loop imprime a msg ou executa o que você quiser.\n",
        "    "
      ],
      "metadata": {
        "trusted": true,
        "id": "80tl8ZqdGHaG"
      },
      "execution_count": null,
      "outputs": []
    },
    {
      "cell_type": "code",
      "source": [
        "i=0                  # inicializando o contador de controle do loop\n",
        "\n",
        "while i<10:          # Enquanto i<10 executa:\n",
        "    i+=1             # incrementa i\n",
        "    if i==5 or i==6: # se i for igual a 5 ou i = 6 não executa mais nada e volta para a verificação i < 10 \n",
        "        continue\n",
        "    print(i)         # imprime i\n",
        "else:\n",
        "    print(\"fim do loop\") # ao terminar o loop imprime a msg ou executa o que você quiser."
      ],
      "metadata": {
        "trusted": true,
        "id": "itn-N-fdGHaH"
      },
      "execution_count": null,
      "outputs": []
    },
    {
      "cell_type": "markdown",
      "source": [
        "# Dicionários\n",
        "Um dicionário é uma coleção desordenada, mutável e indexada. No Python, os dicionários são escritos com colchetes e possuem chaves e valores."
      ],
      "metadata": {
        "id": "xuMbf1NaGHaI"
      }
    },
    {
      "cell_type": "code",
      "source": [
        "dicCPF = dict(Joao=123454444, Pedro = 8987890, Carlos = 83493489)\n",
        "dicSiglas = {'São Paulo':'sp','Rio de Janeiro':'rj', 'Minas':'MG'}"
      ],
      "metadata": {
        "trusted": true,
        "id": "pwmFxlRhGHaI"
      },
      "execution_count": null,
      "outputs": []
    },
    {
      "cell_type": "code",
      "source": [
        "dicCPF.keys() # retorna as chaves do dicionário"
      ],
      "metadata": {
        "trusted": true,
        "id": "tuToN7L7GHaI"
      },
      "execution_count": null,
      "outputs": []
    },
    {
      "cell_type": "code",
      "source": [
        "dicCPF.values() # retorna os valores do dicionário"
      ],
      "metadata": {
        "trusted": true,
        "id": "uWJoNseQGHaJ"
      },
      "execution_count": null,
      "outputs": []
    },
    {
      "cell_type": "code",
      "source": [
        "for k,v in dicSiglas.items(): # itera sobre os itens do dicionário, faz um loop imprimindo chave e valor\n",
        "    print(k,\"==>\",v)"
      ],
      "metadata": {
        "trusted": true,
        "id": "BpTx5RxlGHaJ"
      },
      "execution_count": null,
      "outputs": []
    },
    {
      "cell_type": "code",
      "source": [
        "dicSiglas.get(\"São Paulo\",\"não achou\") # método busca no dicionário pela chave, se encontrar retorna o valor, se não encontrar retorna \"não achou\""
      ],
      "metadata": {
        "trusted": true,
        "id": "Hdh54j-QGHaK"
      },
      "execution_count": null,
      "outputs": []
    },
    {
      "cell_type": "code",
      "source": [
        "dicSiglas.get(\"Paraná\",\"não achou\") # método busca no dicionário pela chave, se encontrar retorna o valor, se não encontrar retorna \"não achou\""
      ],
      "metadata": {
        "trusted": true,
        "id": "z3SmjfmqGHaL"
      },
      "execution_count": null,
      "outputs": []
    },
    {
      "cell_type": "markdown",
      "source": [
        "# Entrada de Dados (input)"
      ],
      "metadata": {
        "id": "k8WgjtMUGHaM"
      }
    },
    {
      "cell_type": "code",
      "source": [
        "# Faça um programa que leia 3 números quaisquer e imprima-os em ordem crescente.\n",
        "\n",
        "#solução 1\n",
        "#ler os 3 números\n",
        "print('entre com o primeiro numero')\n",
        "a = int(input())\n",
        "\n",
        "print('entre com o segundo numero')\n",
        "b = int(input())\n",
        "\n",
        "print('entre com o terceiro numero')\n",
        "c = int(input())\n",
        "\n",
        "# coloca os 3 números em uma lista e depois ordena\n",
        "lista = []\n",
        "lista.append(a)\n",
        "lista.append(b)\n",
        "lista.append(c)\n",
        "print(lista)\n",
        "lista.sort()\n",
        "print(lista)\n"
      ],
      "metadata": {
        "trusted": true,
        "id": "fX3rWUnHGHaM"
      },
      "execution_count": null,
      "outputs": []
    },
    {
      "cell_type": "code",
      "source": [
        "#solução 2 \n",
        "#ler os 3 números e coloca direto em uma lista\n",
        "\n",
        "lista = [0,0,0]\n",
        "print('entre com o primeiro numero')\n",
        "lista[0] = int(input())\n",
        "\n",
        "print('entre com o segundo numero')\n",
        "lista[1] = int(input())\n",
        "\n",
        "print('entre com o terceiro numero')\n",
        "lista[2] = int(input())\n",
        "\n",
        "# imprime a lista sem ordenar, ordena a lista e imprime ordenada\n",
        "print(lista)\n",
        "lista.sort()\n",
        "print(lista)\n"
      ],
      "metadata": {
        "trusted": true,
        "id": "Ca6DKDAXGHaN"
      },
      "execution_count": null,
      "outputs": []
    },
    {
      "cell_type": "code",
      "source": [
        "#solução 2 \n",
        "#ler os 3 números e coloca direto em uma lista usando append e for e range\n",
        "\n",
        "lista = []\n",
        "\n",
        "for i in range(3):\n",
        "    print('entre com o um numero')\n",
        "    lista.append(int(input()))\n",
        "\n",
        "# imprime a lista sem ordenar, ordena a lista e imprime ordenada\n",
        "print(lista)\n",
        "lista.sort()\n",
        "print(lista)\n"
      ],
      "metadata": {
        "trusted": true,
        "id": "4wypewlCGHaO"
      },
      "execution_count": null,
      "outputs": []
    },
    {
      "cell_type": "code",
      "source": [
        "#solução 4 usando apenas comparação\n",
        "#ler os 3 números\n",
        "print('entre com o primeiro numero')\n",
        "a = int(input())\n",
        "\n",
        "print('entre com o segundo numero')\n",
        "b = int(input())\n",
        "\n",
        "print('entre com o terceiro numero')\n",
        "c = int(input())\n",
        "\n",
        "\n",
        "if a>b:\n",
        "    temp = a    # se a > b troco inverto os valores de a e b para isso uso uma variável temporária\n",
        "    a = b\n",
        "    b = temp\n",
        "\n",
        "if b>c:\n",
        "    temp = c\n",
        "    c = b\n",
        "    b = temp\n",
        "    \n",
        "if a>b:\n",
        "    temp = b\n",
        "    b = a\n",
        "    a = temp\n",
        "    \n",
        "print(a,b,c)\n",
        "   "
      ],
      "metadata": {
        "trusted": true,
        "id": "eQr0CeZNGHaQ"
      },
      "execution_count": null,
      "outputs": []
    },
    {
      "cell_type": "markdown",
      "source": [
        "# Formatando dados com Python\n",
        "O método format () permite formatar partes selecionadas de uma string. Às vezes, existem partes de um texto que você não controla, talvez venham de um banco de dados ou de entrada do usuário. Para controlar esses valores, adicione espaços reservados (chaves {}) no texto e execute os valores através do método format ():"
      ],
      "metadata": {
        "id": "09_n1WnAGHaR"
      }
    },
    {
      "cell_type": "code",
      "source": [
        "# Exemplo 1.  \n",
        "\n",
        "preco = 49\n",
        "txt = \"O preço é {} reais\" # Adicione um par de chaves onde você deseja exibir o preço.\n",
        "print(txt.format(preco))   # o método format entende que deve colocar o argumento preco no lugar das chaves"
      ],
      "metadata": {
        "trusted": true,
        "id": "_hVfJz1cGHaS"
      },
      "execution_count": null,
      "outputs": []
    },
    {
      "cell_type": "code",
      "source": [
        "# Exemplo 2. \n",
        "\n",
        "unidade = 50\n",
        "duzia = 500\n",
        "\n",
        "txt = \"O preço da unidade é {} reais, leve 12 e pague somente {} reais.\" # Adicione um par de chaves onde você deseja exibir o preco.\n",
        "print(txt.format(unidade,duzia))   # o método format entende que deve colocar o argumento preco no lugar das chaves, observe a ordem."
      ],
      "metadata": {
        "trusted": true,
        "id": "zRp94CXOGHaT"
      },
      "execution_count": null,
      "outputs": []
    },
    {
      "cell_type": "code",
      "source": [
        "# Exemplo 3. \n",
        "\n",
        "unidade = 50\n",
        "duzia = 500\n",
        "\n",
        "# observe a saída, inverti os valores colocando dentro da chave o da variável.\n",
        "txt = \"O preço da dúzia é {1} reais, leve 1 e pague somente {0} reais.\" # Adicione um par de chaves onde você deseja exibir o preco.\n",
        "print(txt.format(unidade,duzia))   # o método format entende que deve colocar o argumento preco no lugar das chaves\n"
      ],
      "metadata": {
        "trusted": true,
        "id": "4Cfj4TEPGHaU"
      },
      "execution_count": null,
      "outputs": []
    },
    {
      "cell_type": "code",
      "source": [
        "# Exemplo 3. \n",
        "\n",
        "unidade = 50\n",
        "duzia = 500\n",
        "\n",
        "# no exemplo abaixo imprimo só a unidade com duas casas decimais\n",
        "txt = \"O preço da unidade é {:.2f} reais, leve 12 e pague somente {} reais.\" # Adicione um par de chaves onde você deseja exibir o preco.\n",
        "print(txt.format(unidade,duzia))   # o método format entende que deve colocar o argumento preco no lugar das chaves\n",
        "\n",
        "#no exemplo abaixo imprimo a variável unidade com 2 casas e a variável dúzia com 3 casas decimais\n",
        "txt = \"O preço da unidade é {:.2f} reais, leve 12 e pague somente {:.3f} reais.\" # Adicione um par de chaves onde você deseja exibir o preco.\n",
        "print(txt.format(unidade,duzia))   # o método format entende que deve colocar o argumento preco no lugar das chaves\n",
        "\n",
        "#no exemplo abaixo imprimo a variável unidade e duzia com 2 casas mas inverto a posição delas primeiro duzia e depois unidade\n",
        "txt = \"O preço da duzia é {1:.2f} reais, leve 1 e pague somente {0:.2f} reais.\" # Adicione um par de chaves onde você deseja exibir o preco.\n",
        "print(txt.format(unidade,duzia))   # o método format entende que deve colocar o argumento preco no lugar das chaves\n"
      ],
      "metadata": {
        "trusted": true,
        "id": "eu-ZD-m-GHaV"
      },
      "execution_count": null,
      "outputs": []
    },
    {
      "cell_type": "code",
      "source": [
        "import math\n",
        "x = 9\n",
        "print(math.sqrt(x))"
      ],
      "metadata": {
        "trusted": true,
        "id": "M5lkiFD1GHaV"
      },
      "execution_count": null,
      "outputs": []
    },
    {
      "cell_type": "code",
      "source": [
        "nome = \"josE cArlos\"\n",
        "print(nome.lower())\n",
        "print(nome.upper())"
      ],
      "metadata": {
        "trusted": true,
        "id": "v0HDT3naGHaW"
      },
      "execution_count": null,
      "outputs": []
    },
    {
      "cell_type": "markdown",
      "source": [
        "Escreva um programa em Python que solicite ao usuário que entre com seu nome, seu curso e as notas\n",
        "obtidas nas provas P1 e P2. Em seguida, faça:\n",
        "a. calcule a média das duas provas e armazena na variável media.\n",
        "b. calcule a raiz quadrada da p1 e armazena na variável sqrtP1.\n",
        "c. calcule a nota final como media + sqrtP1 armazene o resultado na variável NotaFinal.\n",
        "d. imprima nome e curso em Letras Maiúsculas na mesma linha.\n",
        "e. imprima a nota final do aluno. Observação se a media + sqrtP1 for maior que 10 a nota final\n",
        "deverá ser 10 (nota máxima)\n",
        "\n",
        "Exemplo 1:\n",
        "O aluno nilton canto do curso de tads tirou 5 na P1 e 7 na P2. Neste caso, sua média é\n",
        "6.0 e a raiz quadara de P1 é 2,23\n",
        "\n",
        "\n",
        "Saída:\n",
        "NILTON CANTO - TADS\n",
        "NOTAL FINAL - 8.23\n",
        "\n",
        "Exemplo 2:\n",
        "O aluno cArlos Santos do curso de cc tirou 8 na P1 e 8 na P2. Neste caso, a média é 8.0 e a raiz\n",
        "P1 é 2.83  media + sqrtP1 = 10.83 logo a nota final será 10.00\n",
        "\n",
        "Saída:\n",
        "CARLOS SANTOS - CC\n",
        "NOTAL FINAL - 10.0\n",
        "\n",
        "\n",
        "1. para calcular a raiz quadrada de um número utilize a classe math, veja o exemplo de uso abaixo:\n",
        "import math\n",
        "x=9\n",
        "print(math.sqrt(x))\n",
        "\n",
        "2.  para transformar um texto em maiusculas ou minusculas utilize os métodos upper e lower, veja o exemplo abaixo:\n",
        "nome = \"josE cArlos\"\n",
        "print(nome.lower())\n",
        "print(nome.upper())\n"
      ],
      "metadata": {
        "trusted": true,
        "id": "5RxxdsnsGHaX"
      }
    },
    {
      "cell_type": "code",
      "source": [
        "import math\n",
        "print('Entre com seu nome: ')\n",
        "nome = input()                   #lê o nome do aluno\n",
        "\n",
        "print('Entre com seu curso: ')\n",
        "curso = input()                  #lê o curso do aluno\n",
        "\n",
        "print('Entre com a nota da prova 1: ')\n",
        "p1 = float(input())              # lê a nota da P1\n",
        "\n",
        "print('Entre com a nota da prova 2: ')\n",
        "p2 = float(input())              # lê a nota da P2\n",
        "\n",
        "media = p1 + p2 / 2              # calcula a média\n",
        "sqrtP1 = math.sqrt(p1)           # calcula a raiz quadrada da P1\n",
        "NotaFinal = media + sqrtP1       # calcula a nota final\n",
        "\n",
        "if NotaFinal>10:                 # verifica se a média + o bônus é maior que 10, neste caso a nota final fica 10.\n",
        "    NotaFinal = 10\n",
        "\n",
        "texto = 'Olá {} sua média final no curso {} é : {:.2f}' # prepara o texto final para impressão as {} indicam onde entrará as variáveis\n",
        "print(texto.format(nome.upper(),curso.upper(),NotaFinal)) # usando texto.format as variáveis entrarão na ordem que são declaradas"
      ],
      "metadata": {
        "trusted": true,
        "id": "X9McKC4PGHaX"
      },
      "execution_count": null,
      "outputs": []
    },
    {
      "cell_type": "markdown",
      "source": [
        "Exemplo de impressão de variáveis."
      ],
      "metadata": {
        "id": "ESpYiV2-GHaY"
      }
    },
    {
      "cell_type": "code",
      "source": [
        "print('Digite seu nome:')\n",
        "nome = input()\n",
        "\n",
        "print('Digite sua idade:')\n",
        "idade= input()\n",
        "\n",
        "texto = \"Olá {}, sua idade é {}!\"\n",
        "\n",
        "print(texto.format(nome,idade))\n"
      ],
      "metadata": {
        "trusted": true,
        "id": "jhDoD4lWGHaY"
      },
      "execution_count": null,
      "outputs": []
    },
    {
      "cell_type": "markdown",
      "source": [
        "# Funções Matemáticas"
      ],
      "metadata": {
        "id": "VJnX4xmdGHaY"
      }
    },
    {
      "cell_type": "code",
      "source": [
        "#import\n",
        "import math\n",
        "print(math.sqrt(49))\n",
        "\n",
        "from math import sin\n",
        "print(math.sin(math.pi))"
      ],
      "metadata": {
        "execution": {
          "iopub.status.busy": "2022-08-11T22:27:42.894098Z",
          "iopub.execute_input": "2022-08-11T22:27:42.894540Z",
          "iopub.status.idle": "2022-08-11T22:27:42.901887Z",
          "shell.execute_reply.started": "2022-08-11T22:27:42.894502Z",
          "shell.execute_reply": "2022-08-11T22:27:42.900127Z"
        },
        "trusted": true,
        "id": "PfNs5fCxGHaZ"
      },
      "execution_count": null,
      "outputs": []
    },
    {
      "cell_type": "code",
      "source": [
        "help(math)"
      ],
      "metadata": {
        "execution": {
          "iopub.status.busy": "2022-08-11T22:27:44.595486Z",
          "iopub.execute_input": "2022-08-11T22:27:44.596376Z",
          "iopub.status.idle": "2022-08-11T22:27:44.606270Z",
          "shell.execute_reply.started": "2022-08-11T22:27:44.596323Z",
          "shell.execute_reply": "2022-08-11T22:27:44.605415Z"
        },
        "trusted": true,
        "id": "_j_4AHgoGHaZ"
      },
      "execution_count": null,
      "outputs": []
    },
    {
      "cell_type": "markdown",
      "source": [
        "# Geração de Números Aleatórios"
      ],
      "metadata": {
        "id": "fwwOiqhqGHaa"
      }
    },
    {
      "cell_type": "code",
      "source": [
        "#números randomicos\n",
        "import random\n",
        "n1 = random.random()        # Random float x, 0.0 <= x < 1.0\n",
        "n2 = random.uniform(1, 10)  # Random float x, 1.0 <= x < 10.0\n",
        "n3 = random.randint(1, 10)  # Integer from 1 to 10, endpoints included\n",
        "n4 = random.randrange(0, 101, 2)  # Even integer from 0 to 100\n",
        "n5 = random.randrange(1, 101, 2)  # Even integer from 0 to 100\n",
        "n6 = random.choice('abcdefghijklmn')  # Choose a random element\n",
        "lista1 = [1, 2, 3, 4, 5, 6, 7]\n",
        "random.shuffle(lista1)\n",
        "lista2 = random.sample([1, 2, 3, 4, 5],  3)  # Choose 3 elements\n",
        "\n",
        "print(n1, n2, n3, n4, n5, n6, lista1, lista2)\n"
      ],
      "metadata": {
        "execution": {
          "iopub.status.busy": "2022-08-11T22:25:15.179605Z",
          "iopub.execute_input": "2022-08-11T22:25:15.179945Z",
          "iopub.status.idle": "2022-08-11T22:25:15.190640Z",
          "shell.execute_reply.started": "2022-08-11T22:25:15.179912Z",
          "shell.execute_reply": "2022-08-11T22:25:15.189311Z"
        },
        "trusted": true,
        "id": "UPIakANeGHaa"
      },
      "execution_count": null,
      "outputs": []
    },
    {
      "cell_type": "code",
      "source": [
        "help(random)"
      ],
      "metadata": {
        "execution": {
          "iopub.status.busy": "2022-08-11T22:25:27.724609Z",
          "iopub.execute_input": "2022-08-11T22:25:27.725183Z",
          "iopub.status.idle": "2022-08-11T22:25:27.746633Z",
          "shell.execute_reply.started": "2022-08-11T22:25:27.725146Z",
          "shell.execute_reply": "2022-08-11T22:25:27.745551Z"
        },
        "trusted": true,
        "id": "LoiB9-_yGHaa"
      },
      "execution_count": null,
      "outputs": []
    },
    {
      "cell_type": "markdown",
      "source": [
        "# Datas"
      ],
      "metadata": {
        "id": "XojhmFeZGHab"
      }
    },
    {
      "cell_type": "code",
      "source": [
        "#datas\n",
        "from datetime import datetime\n",
        "now = datetime.now()\n",
        "print(now)\n",
        "print(now.year)\n",
        "print(now.month)\n",
        "print(now.day)\n",
        "print(\"Hoje é: %s/%s/%s\" % (now.day,now.month,now.year))\n",
        "print('%s:%s:%s' % (now.hour, now.minute, now.second))\n",
        "# 2019-08-16 19:40:43.606359\n",
        "# 2019\n",
        "# 8\n",
        "# 16\n",
        "# Hoje é: 16/8/2019\n",
        "# 19:40:43"
      ],
      "metadata": {
        "id": "_vkC4e1qGHab"
      },
      "execution_count": null,
      "outputs": []
    },
    {
      "cell_type": "markdown",
      "source": [
        ""
      ],
      "metadata": {
        "id": "NXWY8FMXGHad"
      }
    }
  ]
}