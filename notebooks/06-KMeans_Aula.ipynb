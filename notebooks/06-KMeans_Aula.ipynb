{
  "nbformat": 4,
  "nbformat_minor": 0,
  "metadata": {
    "colab": {
      "provenance": []
    },
    "kernelspec": {
      "name": "python3",
      "display_name": "Python 3"
    },
    "language_info": {
      "name": "python"
    }
  },
  "cells": [
    {
      "cell_type": "code",
      "execution_count": null,
      "metadata": {
        "id": "1BegvJo-LFAG"
      },
      "outputs": [],
      "source": [
        "import random\n",
        "import numpy as np\n",
        "from numpy import array as a\n",
        "import pandas as pd\n",
        "from matplotlib import pyplot as plt\n",
        "import seaborn as sns\n",
        "from sklearn.cluster import KMeans"
      ]
    },
    {
      "cell_type": "code",
      "source": [
        "# Gerando Dados Sintéticos \n",
        "\n",
        "# Quantidade de pontos em cada classe\n",
        "nA, nB, nC = 50, 60, 55\n",
        "\n",
        "# Posição dos centróides\n",
        "centroidA, centroidB, centroidC = list(a([[7, 8], [3, 2], [8, 3.5]]))\n",
        "\n",
        "# Guardando os centróides originais em um DataFrame para visualizar depois\n",
        "centsDF = pd.DataFrame({'x': [centroidA[0], centroidB[0], centroidC[0]], \n",
        "                        'y': [centroidA[1], centroidB[1], centroidC[1]],\n",
        "                        'classe':['centroid']*3})\n",
        "\n",
        "# Variâcia de cada classe\n",
        "varA, varB, varC = .9, 1.1, 1.\n",
        "\n",
        "# Gerandos aleatoriamente as coordendas x e y dos pontos para as classes A, B e C\n",
        "A = np.random.randn(nA, 2) * varA + centroidA\n",
        "B = np.random.randn(nB, 2) * varB + centroidB\n",
        "C = np.random.randn(nC, 2) * varC + centroidC\n",
        "\n",
        "# Concatenando as coordenadas dos pontos de A, B e C em uma única matrix \"dados\"\n",
        "dados = np.concatenate([A, B, C])\n",
        "\n",
        "# Criando o vetor com os rótulos de cada ponto\n",
        "classes = ['A'] * nA + ['B'] * nB + ['C'] * nC\n",
        "\n",
        "# Criando DataFrame do Pandas com os dados gerados acima\n",
        "DF = pd.DataFrame({'x': dados[:, 0], 'y': dados[:, 1], 'classe': classes})\n",
        "\n",
        "# Paleta de cores para os gráficos -> (Ciano, Azul, Verde, Vermelho)\n",
        "palette = ['#00ffff', '#0000ff', '#00ff00', '#ff0000']\n",
        "\n",
        "sns.scatterplot(data=pd.concat([DF, centsDF]),\n",
        "                x='x', \n",
        "                y='y', \n",
        "                hue='classe', \n",
        "                palette=palette)\n"
      ],
      "metadata": {
        "id": "xIvKjczASJGd"
      },
      "execution_count": null,
      "outputs": []
    },
    {
      "cell_type": "code",
      "source": [
        "# Utilizado o KMeans do SK Learn\n",
        "kmeans = KMeans(n_clusters=3) # Intanciando um modelo K-Means com 3 clusters\n",
        "kmeans.fit(dados) # Fazendo o K-Means se ajustar aos nossos dados e tentar encontrar os 3 clusters originais\n",
        "\n",
        "# Salvando os rótulos encontrados pelo modelo em uma nova coluna do dataframe\n",
        "DF['sklearn'] = kmeans.labels_ \n",
        "\n",
        "# Guardando as coordenadas dos centroids encontrados pelo algoritmo (foi próximo dos originais?)\n",
        "sklearnDF = pd.DataFrame({'x': kmeans.cluster_centers_[:,0], \n",
        "                        'y': kmeans.cluster_centers_[:,1],\n",
        "                        'sklearn':['centroid']*3})\n",
        "\n",
        "# Plotando os resultados\n",
        "plt.figure(figsize=(18,8))\n",
        "plt.subplot(1,2,1)\n",
        "sns.scatterplot(data=pd.concat([DF, centsDF]), x='x', y='y', hue='classe', palette=palette)\n",
        "plt.subplot(1,2,2)\n",
        "sns.scatterplot(data=pd.concat([DF, sklearnDF]), x='x', y='y', hue='sklearn', palette=palette)"
      ],
      "metadata": {
        "id": "AyKllXi7WCDT"
      },
      "execution_count": null,
      "outputs": []
    },
    {
      "cell_type": "code",
      "source": [
        "# Função externa auxiliar para plotar cada iteração do nosso modelo\n",
        "  # Ela não é necessária, coloquei apenas para facilitar a visualização\n",
        "def print_steps(dados, labels, centroids):\n",
        "  plt.figure()\n",
        "  sns.scatterplot(x=np.concatenate([dados[:,0], centroids[:,0]]), \n",
        "                  y=np.concatenate([dados[:,1], centroids[:,1]]), \n",
        "                  hue=np.concatenate([labels, [-1]*len(centroids)]),\n",
        "                  palette=list(reversed(palette))[:len(set(labels))+1])"
      ],
      "metadata": {
        "id": "GRGQjZ8kbHUl"
      },
      "execution_count": null,
      "outputs": []
    },
    {
      "cell_type": "code",
      "source": [
        "class NossoKMeans:\n",
        "  def __init__(self, n_clusters):\n",
        "    self.n = n_clusters\n",
        "\n",
        "  def fit(self, dados):\n",
        "    # passo 0 -> Inicialização dos clusters e do modelo\n",
        "      # Dica: para amostrar aleatoriamente pontos do nosso dataset, podemos usar a função random.sample do python\n",
        "      # por exemplo: centroids = random.sample(list(dados), n_clusters)\n",
        "    self.cluster_centers_ = a(random.sample(list(dados), self.n))\n",
        "    self.labels_ = np.zeros(len(dados)).astype(int)\n",
        "\n",
        "    # Loop\n",
        "    while True:\n",
        "      # Função de debug para plotar cada iteração (apenas para ajudar, não é necessária)\n",
        "      print_steps(dados, self.labels_, self.cluster_centers_)\n",
        "\n",
        "      # passo 1 -> Atribuir rótulos aos dados conforme centróide mais próximo\n",
        "        # Para isso, precisamos percorrer todos os dados,\n",
        "        # comparar a distância com cada um dos centróides e \n",
        "        # escolher o index da menor distância euclidiana\n",
        "      self.labels_ = np.array([np.argmin([np.linalg.norm(p - c) for c in self.cluster_centers_]) for p in dados])\n",
        "\n",
        "      # passo 2 -> Recalcular centroides a partir dos novos rótulos gerados no passo 1\n",
        "        # Para isso, iremos computar a média de todos os pontos (dados)\n",
        "        # pertencentes a cada um dos grupos (relativos aos centróides)\n",
        "        \n",
        "      self.cluster_centers_, lastCs = np.array([dados[self.labels_ == i].mean(axis=0) for i in range(self.n)]), self.cluster_centers_\n",
        "\n",
        "      # passo X -> Condição de parada é quando não há mais alteração da posição dos centroides\n",
        "        # Para isso, precisamos ter armazenado os valores antigos dos centróides\n",
        "        # (antes da última alteração) e comparar com o atual. Caso não haja diferença,\n",
        "        # então podemos quebrar o loop e encerrar nossa função fit()\n",
        "      if np.linalg.norm(lastCs - self.cluster_centers_) < 1e-9: # poderia fazer == 0, mas como trabalamos com ponto flutuante, as vezes essa igualdade pode falhar em aproximações\n",
        "        return self"
      ],
      "metadata": {
        "id": "_t_dCM3VbznL"
      },
      "execution_count": null,
      "outputs": []
    },
    {
      "cell_type": "code",
      "source": [
        "# Utilizando o nosso modelo de KMeans para agrupar os mesmos dados de maneira idêntica como fizemos com o modelo do SK Learn\n",
        "nosso = NossoKMeans(n_clusters=3)\n",
        "nosso.fit(dados)\n",
        "\n",
        "DF['nosso'] = nosso.labels_\n",
        "\n",
        "Ms = nosso.cluster_centers_\n",
        "nossoDF = pd.DataFrame({'x': Ms[:,0], \n",
        "                       'y': Ms[:,1],\n",
        "                       'nosso':['centroid']*3})\n",
        "\n",
        "# Acompanhe abaixo os plots de cada iteração.\n",
        "# Observe como os centroides se moveram\n",
        "# E como os labels de cada ponto do dataset foram se modificando\n"
      ],
      "metadata": {
        "id": "LYMAclDJdP1o"
      },
      "execution_count": null,
      "outputs": []
    },
    {
      "cell_type": "code",
      "source": [
        "# Plotando todos os resultados finais\n",
        "plt.figure(figsize=(18,8))\n",
        "plt.subplot(1,3,1)\n",
        "sns.scatterplot(data=pd.concat([DF, centsDF]), x='x', y='y', hue='classe', palette=palette)\n",
        "plt.subplot(1,3,2)\n",
        "sns.scatterplot(data=pd.concat([DF, sklearnDF]), x='x', y='y', hue='sklearn', palette=palette)\n",
        "plt.subplot(1,3,3)\n",
        "sns.scatterplot(data=pd.concat([DF, nossoDF]), x='x', y='y', hue='nosso', palette=palette)"
      ],
      "metadata": {
        "id": "K_AzafPq4vQg"
      },
      "execution_count": null,
      "outputs": []
    }
  ]
}