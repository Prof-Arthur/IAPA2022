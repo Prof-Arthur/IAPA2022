{
  "nbformat": 4,
  "nbformat_minor": 0,
  "metadata": {
    "colab": {
      "provenance": [],
      "collapsed_sections": []
    },
    "kernelspec": {
      "name": "python3",
      "display_name": "Python 3"
    },
    "language_info": {
      "name": "python"
    }
  },
  "cells": [
    {
      "cell_type": "code",
      "execution_count": 17,
      "metadata": {
        "id": "-gp186robGcN"
      },
      "outputs": [],
      "source": [
        "RA = \"xxxxxxxxx\" # Coloque o seu RA aqui, pode ser como string ou int\n",
        "\n",
        "from N1 import generator\n",
        "V1000, A, B, C, I4, V1, V2 = generator(RA)"
      ]
    },
    {
      "cell_type": "code",
      "source": [
        "# Seu código aqui:\n"
      ],
      "metadata": {
        "id": "N65rqarcf1Iy"
      },
      "execution_count": null,
      "outputs": []
    }
  ]
}