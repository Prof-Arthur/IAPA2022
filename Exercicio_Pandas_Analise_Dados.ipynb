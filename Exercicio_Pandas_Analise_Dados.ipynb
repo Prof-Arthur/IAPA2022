{
  "nbformat": 4,
  "nbformat_minor": 0,
  "metadata": {
    "colab": {
      "provenance": []
    },
    "kernelspec": {
      "name": "python3",
      "display_name": "Python 3"
    },
    "language_info": {
      "name": "python"
    }
  },
  "cells": [
    {
      "cell_type": "markdown",
      "source": [
        "1. Utilize o Pandas para criar um DataFrame com os dados abaixo e depois responda:\n",
        "\n",
        "  ### Nome, Idade\n",
        "- João, 35\n",
        "- Alberto, 27\n",
        "- Maria, 15\n",
        "- José, 17\n",
        "- Lúcia, 79\n",
        "- Ana, 41\n",
        "- Fleur, 1\n",
        "- Adilson, 16\n",
        "- Alberto, 14\n",
        "- Arthur, 28\n",
        "- Joana, 23\n",
        "- Bruna, 16 \n",
        "- Hugo, 12\n",
        "- Pedro, 13\n",
        "- Valter, 27\n",
        "- Juan, 31\n",
        "- Diego, 21\n",
        "- Mário, 7\n",
        "\n",
        "\n",
        "1. Qual a média de idade dessas pessoas?\n",
        "1. Qual a mediana de idade dessas pessoas? \n",
        "1. Qual a proporção de menores de idade e de maiores?\n",
        "1. Qual a média dos menores? E a mediana?\n",
        "1. Qual a média dos maiores? E a mediana?\n",
        "1. Qual a proporção entre mulheres e homens?\n",
        "1. Qual o nome da pessoa mais idosa?\n",
        "1. Qual o nome da pessoa mais jovem?\n",
        "\n",
        "Responda usando o pandas."
      ],
      "metadata": {
        "id": "gikifcGS7YsF"
      }
    },
    {
      "cell_type": "code",
      "execution_count": null,
      "metadata": {
        "id": "BeoZ2zja7Kil"
      },
      "outputs": [],
      "source": [
        "### Seu código aqui:"
      ]
    },
    {
      "cell_type": "markdown",
      "source": [
        "2. Carregue os dados no arquivo: \"pda-prouni-2017.csv\" e responda e se possível tente utilizar algum gráfico:\n",
        "\n",
        "> Dica, o separador dos dados não é vírgula e sim o ponto-e-vírgula.\n",
        "> Tente abrir o arquivo da seguinte maneira:\n",
        "\n",
        "> data = pd.read_csv('drive/MyDrive/Datasets/pda-prouni-2017.csv', sep=';')\n",
        "\n",
        "> Dica 2: No colab, podemos carregar dados direto do google drive. Foi o que eu fiz nessa linha acima, mas para isso, devemos montar o drive na aba de arquivos do colab.\n",
        "\n",
        "  1. Quantas entradas de dados temos nesse dataset?\n",
        "  1. Quantas universidades estão no dataset?\n",
        "  1. Qual universidade tem a maior quantidade de alunos do Prouni?\n",
        "  1. Existem dados nulos/vazios no dataset?\n",
        "  1. Qual universidade tem o menor número de alunos do Prouni?\n",
        "  1. Qual a proporção de alunos por tipo de bolsa?\n",
        "  1. Qual a proporção de alunos pelo tipo de ensino (EAD, presencial...)?\n",
        "  1. Quantos cursos estão listados? (e qual tem mais/menos anlunos)?\n",
        "  1. E sobre os turnos, o que você poderia extrair de informação?\n",
        "  1. E com relação ao gênero dos alunos, qual a proporção e distribuição com relação aos cursos?\n",
        "  1. Qual a idade máxima, média e mínima do dataset? (lembre-se que os dados são de 2017 e não do ano atual)\n",
        "  1. Qual é a proporção de alunos pelas regiões do Brasil, qual a região com mais e com menos alunos? - extra, busque dados sobre a população total dessas regiões e tente comparar o percentual de alunos por região, relativo à população total.\n",
        "  1. E por estados do Brasil?"
      ],
      "metadata": {
        "id": "c5h7Y2_8wPsc"
      }
    },
    {
      "cell_type": "code",
      "source": [
        "import pandas as pd\n",
        "\n",
        "data = pd.read_csv('drive/MyDrive/Datasets/pda-prouni-2017.csv', sep=';')"
      ],
      "metadata": {
        "id": "Gvo_8CBr_wxM"
      },
      "execution_count": null,
      "outputs": []
    },
    {
      "cell_type": "code",
      "source": [
        "### Seu código aqui:"
      ],
      "metadata": {
        "id": "O615W5Efztns"
      },
      "execution_count": null,
      "outputs": []
    }
  ]
}